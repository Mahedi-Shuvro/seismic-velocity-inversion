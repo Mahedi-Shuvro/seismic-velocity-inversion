{
 "cells": [
  {
   "cell_type": "markdown",
   "metadata": {
    "colab_type": "text",
    "id": "view-in-github"
   },
   "source": [
    "<a href=\"https://colab.research.google.com/github/Mahedi-Shuvro/seismic-velocity-inversion/blob/main/SeismoLabV3%2B.ipynb\" target=\"_parent\"><img src=\"https://colab.research.google.com/assets/colab-badge.svg\" alt=\"Open In Colab\"/></a>"
   ]
  },
  {
   "cell_type": "markdown",
   "metadata": {
    "id": "ojeA8y5Whiff"
   },
   "source": [
    "This cell connects Colab notebook to\n",
    "Google Drive for easy file access and storage."
   ]
  },
  {
   "cell_type": "code",
   "execution_count": null,
   "metadata": {
    "colab": {
     "base_uri": "https://localhost:8080/"
    },
    "id": "8Bf871aVc8lE",
    "outputId": "b219cab2-55e6-4345-89a7-ad8d8eebc606"
   },
   "outputs": [],
   "source": [
    "from google.colab import drive\n",
    "drive.mount('/content/drive')"
   ]
  },
  {
   "cell_type": "markdown",
   "metadata": {
    "id": "IQWhB3JvB-j4"
   },
   "source": [
    "# Section 1: Imports and Installations\n",
    "\n",
    "> installs and imports essential libraries for deep learning (PyTorch and segmentation models), numerical computations, data handling, visualization, and project-specific evaluation utilities. These dependencies form the foundational setup for the deep learning workflow\n",
    "\n"
   ]
  },
  {
   "cell_type": "markdown",
   "metadata": {
    "id": "RYRPX396VyI5"
   },
   "source": [
    "**Installs**"
   ]
  },
  {
   "cell_type": "code",
   "execution_count": null,
   "metadata": {
    "colab": {
     "base_uri": "https://localhost:8080/"
    },
    "id": "_Isuf09tVHWc",
    "outputId": "a434f608-3f12-4d11-ba84-510d5485f57a"
   },
   "outputs": [],
   "source": [
    "!pip install anytree  # for creating and manipulating tree data structures in Python.\n",
    "!pip install segmentation-models-pytorch --quiet # Install necessary libraries for segmentation models"
   ]
  },
  {
   "cell_type": "markdown",
   "metadata": {
    "id": "f6w71ni6WIQ4"
   },
   "source": []
  },
  {
   "cell_type": "code",
   "execution_count": null,
   "metadata": {
    "id": "1QocGM4PIZiR"
   },
   "outputs": [],
   "source": [
    "# System & utilities\n",
    "import os, platform, json, zipfile, random\n",
    "from glob import glob\n",
    "\n",
    "# Numerics & viz\n",
    "import numpy as np\n",
    "import matplotlib.pyplot as plt\n",
    "\n",
    "# Progress bar\n",
    "from tqdm import tqdm\n",
    "\n",
    "# PyTorch\n",
    "import torch\n",
    "import torch.nn as nn\n",
    "import torch.nn.functional as F\n",
    "import torch.optim as optim\n",
    "from torch.utils.data import Dataset, DataLoader, Subset\n",
    "\n",
    "# Splits\n",
    "from sklearn.model_selection import train_test_split\n",
    "\n",
    "# Segmentation Models PyTorch\n",
    "import segmentation_models_pytorch as smp  # use as smp.DeepLabV3Plus\n",
    "\n",
    "# Project utilities (assumes utils.py in your working dir / sys.path)\n",
    "from utils import create_submission, calculate_mape, calculate_score"
   ]
  },
  {
   "cell_type": "markdown",
   "metadata": {
    "id": "q3qF55e5Jvm8"
   },
   "source": [
    "**Environment & Reproducibility Setup\n",
    "(Seeds, device, dataset paths)**"
   ]
  },
  {
   "cell_type": "code",
   "execution_count": null,
   "metadata": {
    "colab": {
     "base_uri": "https://localhost:8080/"
    },
    "id": "8PXxrg5TJ0y-",
    "outputId": "9f7b95f5-a2d3-42b6-dd44-b9120a2b1ecc"
   },
   "outputs": [],
   "source": [
    "# Reproducibility\n",
    "def set_seed(seed=42):\n",
    "    random.seed(seed); np.random.seed(seed); torch.manual_seed(seed)\n",
    "    if torch.cuda.is_available(): torch.cuda.manual_seed_all(seed)\n",
    "\n",
    "set_seed(42)\n",
    "\n",
    "device = torch.device(\"cuda\" if torch.cuda.is_available() else \"cpu\")\n",
    "print(\"Using device:\", device)\n",
    "\n",
    "# Paths (adjust if needed)\n",
    "train_zip = \"/content/drive/MyDrive/Speed_and_Structure/speed-and-structure-train-data.zip\"\n",
    "test_zip  = \"/content/drive/MyDrive/Speed_and_Structure/speed-and-structure-test-data.zip\"\n",
    "train_dir = \"/content/sample_data/speed-and-structure-train\"\n",
    "test_dir  = \"/content/sample_data/speed-and-structure-test\""
   ]
  },
  {
   "cell_type": "markdown",
   "metadata": {
    "id": "U5sXwwGeEmyS"
   },
   "source": [
    "# Data Analysis & Inspection"
   ]
  },
  {
   "cell_type": "markdown",
   "metadata": {
    "id": "9jz-RqAL5RE3"
   },
   "source": [
    "This cell ensures that train and test datasets are unzipped and ready in the Colab environment, and prints a few file names to verify everything’s in place."
   ]
  },
  {
   "cell_type": "code",
   "execution_count": null,
   "metadata": {
    "colab": {
     "base_uri": "https://localhost:8080/"
    },
    "id": "1eAWpW8CDMYW",
    "outputId": "c367cfd7-c9c2-4f04-db3d-8941760cbc1f"
   },
   "outputs": [],
   "source": [
    "def extract_zip(zip_path, extract_path):\n",
    "    os.makedirs(extract_path, exist_ok=True)\n",
    "    if os.listdir(extract_path):\n",
    "        print(f\"✅ Data already extracted at: {extract_path}\")\n",
    "        return\n",
    "    try:\n",
    "        with zipfile.ZipFile(zip_path, 'r') as z:\n",
    "            z.extractall(extract_path)\n",
    "        print(f\"✅ Extracted to: {extract_path}\")\n",
    "    except zipfile.BadZipFile:\n",
    "        print(f\"❌ Corrupted zip: {zip_path}\")\n",
    "    except FileNotFoundError:\n",
    "        print(f\"❌ Zip not found: {zip_path}\")\n",
    "\n",
    "extract_zip(train_zip, train_dir)\n",
    "extract_zip(test_zip, test_dir)\n",
    "\n",
    "print(\"📂 Sample training files:\", os.listdir(train_dir)[:5])\n",
    "print(\"📂 Sample testing files:\", os.listdir(test_dir)[:5])"
   ]
  },
  {
   "cell_type": "markdown",
   "metadata": {
    "id": "tNtVNC_M6sbQ"
   },
   "source": [
    "**Dataset Inspection & Sample Exploration\n",
    "Confirming that input receiver data and target velocity model labels are present and correctly formatted.**"
   ]
  },
  {
   "cell_type": "code",
   "execution_count": null,
   "metadata": {
    "colab": {
     "base_uri": "https://localhost:8080/"
    },
    "id": "NH0Y5dsBTagc",
    "outputId": "b8f7568f-fd2a-4171-80b5-1a35a0de59f6"
   },
   "outputs": [],
   "source": [
    "# Path to training samples\n",
    "train_dir = \"/content/sample_data/speed-and-structure-train\"\n",
    "sample_folders = sorted([f for f in glob(os.path.join(train_dir, \"*\")) if os.path.isdir(f)])\n",
    "print(f\"📦 Total training samples: {len(sample_folders)}\")\n",
    "\n",
    "# Pick one to inspect\n",
    "sample_path = sample_folders[0]\n",
    "sample_id = os.path.basename(sample_path)\n",
    "print(f\"\\n🔍 Inspecting sample: {sample_id}\")\n",
    "\n",
    "# Load all 5 receiver data inputs\n",
    "receiver_indices = [1, 75, 150, 225, 300]\n",
    "for i in receiver_indices:\n",
    "    file_path = os.path.join(sample_path, f\"receiver_data_src_{i}.npy\")\n",
    "    try:\n",
    "        data = np.load(file_path)\n",
    "        print(f\"Loaded: receiver_data_src_{i}.npy - shape: {data.shape}, dtype: {data.dtype}\")\n",
    "    except FileNotFoundError:\n",
    "        print(f\"Missing file: receiver_data_src_{i}.npy\")\n",
    "\n",
    "# Load the velocity model\n",
    "vp_path = os.path.join(sample_path, \"vp_model.npy\")\n",
    "try:\n",
    "    vp_model = np.load(vp_path)\n",
    "    print(f\"\\n✅ Loaded: vp_model.npy - shape: {vp_model.shape}, dtype: {vp_model.dtype}\")\n",
    "except FileNotFoundError:\n",
    "   print(\"Missing file: vp_model.npy\")"
   ]
  },
  {
   "cell_type": "markdown",
   "metadata": {
    "id": "KOPqbrw79uIz"
   },
   "source": [
    "**Visualize Seismic Shot Gather Sample and Ground Truth Velocity Model:\n",
    "This cell visualizes the five seismic receiver inputs (from different source positions-1,75,250,225,300) and the ground truth velocity model (vp_model.npy) for a selected sample.**"
   ]
  },
  {
   "cell_type": "code",
   "execution_count": null,
   "metadata": {
    "colab": {
     "base_uri": "https://localhost:8080/",
     "height": 621
    },
    "id": "2F_m1oMZuSSJ",
    "outputId": "6fba9e81-89de-4843-f3b1-b48112a275d1"
   },
   "outputs": [],
   "source": [
    "def visualize_sample(sample_path):\n",
    "    source_positions = [1, 75, 150, 225, 300]\n",
    "    receiver_data = []\n",
    "\n",
    "    print(f\"🔍 Visualizing sample at: {os.path.basename(sample_path)}\")\n",
    "\n",
    "    # Load seismic receiver inputs with error handling\n",
    "    for src in source_positions:\n",
    "        file_path = os.path.join(sample_path, f\"receiver_data_src_{src}.npy\")\n",
    "        try:\n",
    "            data = np.load(file_path)\n",
    "            receiver_data.append(data)\n",
    "        except FileNotFoundError:\n",
    "            print(f\"File not found: {file_path}\")\n",
    "            receiver_data.append(np.zeros((100, 100)))  # placeholder\n",
    "        except Exception as e:\n",
    "            print(f\"Error loading {file_path}: {e}\")\n",
    "            receiver_data.append(np.zeros((100, 100)))  # placeholder\n",
    "\n",
    "    # Load velocity model\n",
    "    try:\n",
    "        vp_model = np.load(os.path.join(sample_path, \"vp_model.npy\"))\n",
    "    except FileNotFoundError:\n",
    "        print(\"vp_model.npy not found!\")\n",
    "        return\n",
    "    except Exception as e:\n",
    "        print(f\"Error loading vp_model.npy: {e}\")\n",
    "        return\n",
    "\n",
    "    # Plot seismic receiver inputs\n",
    "    fig, axs = plt.subplots(1, 5, figsize=(20, 4))\n",
    "    for i, (data, src) in enumerate(zip(receiver_data, source_positions)):\n",
    "        axs[i].imshow(data.T, aspect='auto', cmap='seismic', interpolation='none')\n",
    "        axs[i].set_title(f\"Receiver Src {src}\")\n",
    "        axs[i].set_xlabel(\"Time\")\n",
    "        axs[i].set_ylabel(\"Receiver\")\n",
    "    plt.suptitle(\"Seismic Receiver Inputs\")\n",
    "    plt.tight_layout()\n",
    "    plt.show()\n",
    "\n",
    "    # Plot velocity model\n",
    "    plt.figure(figsize=(10, 4))\n",
    "    plt.imshow(vp_model, aspect='auto', cmap='viridis')\n",
    "    plt.title(\"Ground Truth Velocity Model (vp_model.npy)\")\n",
    "    plt.xlabel(\"Distance\")\n",
    "    plt.ylabel(\"Depth\")\n",
    "    plt.colorbar(label='Velocity (m/s)')\n",
    "    plt.tight_layout()\n",
    "    plt.show()\n",
    "\n",
    "\n",
    "sample_folders = sorted(glob(\"/content/sample_data/speed-and-structure-train/*\"))\n",
    "visualize_sample(sample_folders[0])\n",
    "\n"
   ]
  },
  {
   "cell_type": "markdown",
   "metadata": {
    "id": "nMCTMVsz-xLU"
   },
   "source": [
    "**INSPECT TEST DATA ** the total number of test samples (folders) in the test dataset.\n",
    "\n",
    "Inspects the first test sample:\n",
    "\n",
    "Loads and prints the shape and data type for each of the 5 receiver input files (receiver_data_src_*.npy).\n",
    "\n",
    "Verifies that all necessary input files are present and correctly formatted.\n",
    "\n",
    "Confirms the test dataset is ready for inference (no ground truth velocity model in test set)"
   ]
  },
  {
   "cell_type": "code",
   "execution_count": null,
   "metadata": {
    "colab": {
     "base_uri": "https://localhost:8080/"
    },
    "id": "9yLcjRrqThAS",
    "outputId": "3d6ca3c7-c9cf-4e54-d10d-3acc972d11f6"
   },
   "outputs": [],
   "source": [
    "# Path to test samples\n",
    "test_dir = \"/content/sample_data/speed-and-structure-test\"\n",
    "test_folders = sorted([f for f in glob(os.path.join(test_dir, \"*\")) if os.path.isdir(f)])\n",
    "print(f\"🧪 Total test samples: {len(test_folders)}\")\n",
    "\n",
    "# Pick one to inspect\n",
    "test_sample_path = test_folders[0]\n",
    "test_sample_id = os.path.basename(test_sample_path)\n",
    "print(f\"\\n🔍 Inspecting test sample: {test_sample_id}\")\n",
    "\n",
    "# Load receiver data (no velocity ground truth in test set)\n",
    "receiver_indices = [1, 75, 150, 225, 300]\n",
    "for i in receiver_indices:\n",
    "    file_path = os.path.join(test_sample_path, f\"receiver_data_src_{i}.npy\")\n",
    "    try:\n",
    "        test_data = np.load(file_path)\n",
    "        print(f\"Loaded: receiver_data_src_{i}.npy - shape: {test_data.shape}, dtype: {test_data.dtype}\")\n",
    "    except FileNotFoundError:\n",
    "        print(f\"Missing file: receiver_data_src_{i}.npy\")\n",
    "    except Exception as e:\n",
    "        print(f\"Error loading receiver_data_src_{i}.npy: {e}\")"
   ]
  },
  {
   "cell_type": "markdown",
   "metadata": {
    "id": "gWkkRe7OE8Mn"
   },
   "source": [
    "# Data preparation for Training\n",
    "> PyTorch Dataset for Seismic Shot Gather Inputs and Velocity Models:\n",
    "This cell defines a custom dataset class to efficiently load, resize, pad, and return seismic receiver data and ground-truth velocity models for use in deep segmentation models. It supports both training/validation (with ground truth) and test (input-only) modes."
   ]
  },
  {
   "cell_type": "code",
   "execution_count": null,
   "metadata": {
    "colab": {
     "base_uri": "https://localhost:8080/"
    },
    "id": "svcvma0nJXbl",
    "outputId": "30fb9fc0-e067-4033-ab91-c0c31adec4a8"
   },
   "outputs": [],
   "source": [
    "class SeismicDataset(Dataset):\n",
    "    \"\"\"\n",
    "    Loads 5 receiver shot gathers per sample, resizes to (300,1259),\n",
    "    pads to (304,1264), and returns (x, y) for train/val or (x, id) for test.\n",
    "    \"\"\"\n",
    "    def __init__(self, root, is_test=False, normalize=True):\n",
    "        self.paths   = sorted(glob(os.path.join(root, \"*\")))\n",
    "        self.is_test = is_test\n",
    "        self.src_pos = [1, 75, 150, 225, 300]\n",
    "        self.pad_h, self.pad_w = 304, 1264\n",
    "        self.normalize = normalize\n",
    "\n",
    "    def __len__(self): return len(self.paths)\n",
    "\n",
    "    def _norm(self, x):\n",
    "        # per-channel min-max to [0,1] (robust and simple)\n",
    "        xs = []\n",
    "        for ch in x:\n",
    "            mn, mx = ch.min(), ch.max()\n",
    "            xs.append((ch - mn) / (mx - mn + 1e-8))\n",
    "        return np.stack(xs, axis=0).astype(np.float32)\n",
    "\n",
    "    def __getitem__(self, i):\n",
    "        folder = self.paths[i]\n",
    "        x = np.stack([np.load(os.path.join(folder, f\"receiver_data_src_{p}.npy\")) for p in self.src_pos]).astype(np.float32)\n",
    "        if self.normalize: x = self._norm(x)\n",
    "\n",
    "        x = torch.from_numpy(x).unsqueeze(0)  # (1,5,H,W)\n",
    "        x = F.interpolate(x, size=(300, 1259), mode='bilinear', align_corners=False).squeeze(0)  # (5,300,1259)\n",
    "\n",
    "        pad_h = max(0, self.pad_h - x.shape[1])\n",
    "        pad_w = max(0, self.pad_w - x.shape[2])\n",
    "        x = F.pad(x, (0, pad_w, 0, pad_h))  # (left,right,top,bottom) -> (5,304,1264)\n",
    "\n",
    "        if self.is_test:\n",
    "            return x, os.path.basename(folder)\n",
    "\n",
    "        y = torch.from_numpy(np.load(os.path.join(folder, \"vp_model.npy\")).astype(np.float32))  # (300,1259)\n",
    "        y = F.pad(y, (0, pad_w, 0, pad_h))  # (304,1264)\n",
    "\n",
    "        return x, y\n",
    "\n",
    "full_dataset = SeismicDataset(train_dir)\n",
    "sample = full_dataset[0][0]\n",
    "print(\"Sample input shape after padding:\", sample.shape)"
   ]
  },
  {
   "cell_type": "markdown",
   "metadata": {
    "id": "hyk4twD_GAT7"
   },
   "source": [
    "# Model Defination & Training\n",
    ">DeepLabV3+ Model Setup, Training Loop, and Visualization:\n",
    "This cell defines the model, loss, training loop (with progress bars and checkpointing), and loss curve visualization for seismic velocity inversion using DeepLabV3+. All key parameters are tracked and reproducibility is ensured.\n"
   ]
  },
  {
   "cell_type": "markdown",
   "metadata": {
    "id": "a5lxmleRNm-_"
   },
   "source": [
    "**Training Configuration, Model Factory & Utilities\n",
    "Defines hyperparameters, DeepLabV3+ factory, MAPE loss, mixed-precision training loop, LR scheduler, checkpointing, and loss plotting.**"
   ]
  },
  {
   "cell_type": "code",
   "execution_count": null,
   "metadata": {
    "id": "wmUhBQnf8TRn"
   },
   "outputs": [],
   "source": [
    "# Hyperparameters\n",
    "HYPERPARAMS = {\n",
    "    \"encoder_name\": \"resnext50_32x4d\",\n",
    "    \"encoder_weights\": \"imagenet\",\n",
    "    \"in_channels\": 5,\n",
    "    \"classes\": 1,\n",
    "    \"activation\": None,\n",
    "    \"upsampling\": 4,            # SMP upsampling factor for DeepLabV3+\n",
    "    \"lr\": 5e-4,\n",
    "    \"batch_size\": 4,\n",
    "    \"epochs\": 50,\n",
    "    \"weight_decay\": 1e-4,\n",
    "    \"scheduler_patience\": 5,\n",
    "    \"scheduler_factor\": 0.5,\n",
    "}\n",
    "\n",
    "# Model factory (use core args for maximum SMP compatibility)\n",
    "def get_model(params):\n",
    "    model = smp.DeepLabV3Plus(\n",
    "        encoder_name=params[\"encoder_name\"],\n",
    "        encoder_weights=params[\"encoder_weights\"],\n",
    "        in_channels=params[\"in_channels\"],\n",
    "        classes=params[\"classes\"],\n",
    "        activation=params[\"activation\"],\n",
    "        upsampling=params[\"upsampling\"],\n",
    "    )\n",
    "    return model.to(device)\n",
    "\n",
    "# MAPE loss\n",
    "class MAPELoss(nn.Module):\n",
    "    def __init__(self, epsilon=1e-5):\n",
    "        super().__init__(); self.epsilon = epsilon\n",
    "    def forward(self, pred, target):\n",
    "        return torch.mean(torch.abs((target - pred) / (target + self.epsilon)))\n",
    "\n",
    "# Training loop with AMP, scheduler, checkpoint\n",
    "def train_model(model, train_loader, val_loader, params):\n",
    "    criterion = MAPELoss().to(device)\n",
    "    optimizer = torch.optim.AdamW(model.parameters(), lr=params[\"lr\"], weight_decay=params[\"weight_decay\"])\n",
    "    scheduler = torch.optim.lr_scheduler.ReduceLROnPlateau(\n",
    "    optimizer,\n",
    "    mode='min',\n",
    "    patience=params[\"scheduler_patience\"],\n",
    "    factor=params[\"scheduler_factor\"]\n",
    ")\n",
    "\n",
    "    scaler   = torch.cuda.amp.GradScaler(enabled=torch.cuda.is_available())\n",
    "\n",
    "    history = {\"train_loss\": [], \"val_loss\": [], \"lr\": []}\n",
    "    best_val = float(\"inf\")\n",
    "\n",
    "    for epoch in range(params[\"epochs\"]):\n",
    "        # --- Train ---\n",
    "        model.train()\n",
    "        tr_losses = []\n",
    "        for xb, yb in tqdm(train_loader, desc=f\"Epoch {epoch+1}/{params['epochs']} - Train\", leave=False):\n",
    "            xb, yb = xb.to(device, non_blocking=True), yb.to(device, non_blocking=True)\n",
    "            optimizer.zero_grad(set_to_none=True)\n",
    "            with torch.cuda.amp.autocast(enabled=torch.cuda.is_available()):\n",
    "                pred = model(xb).squeeze(1)           # (B,304,1264)\n",
    "                loss = criterion(pred[:, :300, :1259], yb[:, :300, :1259])\n",
    "            scaler.scale(loss).backward()\n",
    "            torch.nn.utils.clip_grad_norm_(model.parameters(), max_norm=1.0)\n",
    "            scaler.step(optimizer); scaler.update()\n",
    "            tr_losses.append(loss.item())\n",
    "\n",
    "        train_loss = float(np.mean(tr_losses))\n",
    "        history[\"train_loss\"].append(train_loss)\n",
    "\n",
    "        # --- Validate ---\n",
    "        model.eval()\n",
    "        va_losses = []\n",
    "        with torch.inference_mode(), torch.cuda.amp.autocast(enabled=torch.cuda.is_available()):\n",
    "            for xb, yb in tqdm(val_loader, desc=f\"Epoch {epoch+1}/{params['epochs']} - Val\", leave=False):\n",
    "                xb, yb = xb.to(device, non_blocking=True), yb.to(device, non_blocking=True)\n",
    "                pred = model(xb).squeeze(1)\n",
    "                va_losses.append(MAPELoss()(pred[:, :300, :1259], yb[:, :300, :1259]).item())\n",
    "\n",
    "        val_loss = float(np.mean(va_losses))\n",
    "        history[\"val_loss\"].append(val_loss)\n",
    "        history[\"lr\"].append(optimizer.param_groups[0][\"lr\"])\n",
    "        scheduler.step(val_loss)\n",
    "\n",
    "        print(f\"Epoch {epoch+1:03d}/{params['epochs']} | Train MAPE: {train_loss:.5f} | Val MAPE: {val_loss:.5f} | LR: {optimizer.param_groups[0]['lr']:.2e}\")\n",
    "\n",
    "        if val_loss < best_val:\n",
    "            best_val = val_loss\n",
    "            torch.save(model.state_dict(), \"best_deeplabv3plus_model.pth\")\n",
    "            print(\"  ✅ Saved new best model!\")\n",
    "\n",
    "            # save training info\n",
    "            info = {\n",
    "                \"hyperparameters\": params,\n",
    "                \"best_val_loss\": best_val,\n",
    "                \"device\": str(device),\n",
    "                \"python_version\": platform.python_version(),\n",
    "                \"torch_version\": torch.__version__,\n",
    "                \"cuda_available\": torch.cuda.is_available(),\n",
    "                \"cuda_version\": torch.version.cuda if torch.cuda.is_available() else None,\n",
    "            }\n",
    "            try:\n",
    "                with open(\"training_info.json\", \"w\") as f: json.dump(info, f, indent=4)\n",
    "            except Exception as e:\n",
    "                print(\"Warning saving training_info.json:\", e)\n",
    "\n",
    "    return history\n",
    "\n",
    "def plot_loss(history, title=\"Train & Validation MAPE\"):\n",
    "    plt.figure(figsize=(8,5))\n",
    "    plt.plot(history[\"train_loss\"], label=\"Train MAPE\")\n",
    "    plt.plot(history[\"val_loss\"], label=\"Val MAPE\")\n",
    "    plt.xlabel(\"Epoch\"); plt.ylabel(\"MAPE\"); plt.title(title)\n",
    "    plt.grid(True); plt.legend(); plt.show()"
   ]
  },
  {
   "cell_type": "markdown",
   "metadata": {
    "id": "lK_SahHXMWI1"
   },
   "source": [
    "**Data Splits & DataLoader Setup\n",
    "Partitions the dataset into 60% training, 20% validation, and 20% internal test (frozen). Configures PyTorch DataLoaders with CUDA-aware settings (workers, pinning, persistence).**"
   ]
  },
  {
   "cell_type": "code",
   "execution_count": null,
   "metadata": {
    "colab": {
     "base_uri": "https://localhost:8080/"
    },
    "id": "D4ZFZr9cS0AQ",
    "outputId": "baf7afb2-ea98-4233-e3f7-653badedfc0d"
   },
   "outputs": [],
   "source": [
    "cuda = torch.cuda.is_available()\n",
    "loader_args = dict(num_workers=2 if cuda else 0, pin_memory=cuda, persistent_workers=cuda) if cuda else {}\n",
    "\n",
    "full_dataset = SeismicDataset(train_dir)\n",
    "\n",
    "idx_all = np.arange(len(full_dataset))\n",
    "idx_trainval, idx_test_int = train_test_split(idx_all, test_size=0.20, random_state=42, shuffle=True)     # 20% internal test (frozen)\n",
    "idx_train_60, idx_val_20   = train_test_split(idx_trainval, test_size=0.25, random_state=42, shuffle=True) # from the remaining 80%\n",
    "\n",
    "print(f\"Sizes | train: {len(idx_train_60)} | val: {len(idx_val_20)} | internal test: {len(idx_test_int)}\")\n",
    "\n",
    "BATCH_SIZE = HYPERPARAMS[\"batch_size\"]\n",
    "\n",
    "train_loader_60 = DataLoader(Subset(full_dataset, idx_train_60), batch_size=BATCH_SIZE, shuffle=True, drop_last=True, **loader_args)\n",
    "val_loader_20   = DataLoader(Subset(full_dataset, idx_val_20),   batch_size=1, shuffle=False, **loader_args)\n",
    "test_loader_int = DataLoader(Subset(full_dataset, idx_test_int), batch_size=1, shuffle=False, **loader_args)"
   ]
  },
  {
   "cell_type": "markdown",
   "metadata": {
    "id": "l_6u70U9OgSl"
   },
   "source": [
    "**Model Training, Checkpoint Loading & Internal Test Evaluation\n",
    "Trains DeepLabV3+ on the 60/20 split, restores the best checkpoint, and evaluates performance on the frozen 20% internal test set (MAPE).**"
   ]
  },
  {
   "cell_type": "code",
   "execution_count": null,
   "metadata": {
    "colab": {
     "base_uri": "https://localhost:8080/",
     "height": 1000,
     "referenced_widgets": [
      "f03d85c2ca0b4e9e906825216088a2a0",
      "5b4d8e1c6b36402e9cc13b6e34fb6fe4",
      "c12b1bb93be248f1b8c84e6b35229717",
      "924be5d0b7d743e7a850a8bb8e438d21",
      "3d866fbc827e40c990340bc61daa0554",
      "6e6d49a21d014e468a994f442de39f10",
      "09d670464fc7450b8966107995bef8ab",
      "edd41e9372f04a75b3c0c1843ffac18a",
      "77b20aa44cb04947a2fd88343b752d33",
      "b2083509ed6d4e48b6b23da6740a2d18",
      "d7dc667b6a5a4fd7a5746f5487ce70df",
      "7d7f0ac7b0ad4f44bf7f75805398e0fb",
      "2e3b640ea4d64eb8acbbb057f9a93bec",
      "7b05be812a5c459187c85cc5045915a2",
      "e0c25521552748969288581fba36876a",
      "d422afe8f9554d5eaf7b3dd3392cd22a",
      "006d759ceb8d4ef9adcbfddb69d9d3b0",
      "1fe53f29c8a44e54a61f5f162dbefed8",
      "949879166a2b45999cdbdb95e0e3c095",
      "d7d8ffa57ea1464b990b6cb396252fdc",
      "fda3ff9c0545431aaac918c65dcc02a8",
      "1a2a2500f78e4ba3a2509a0f672d41cd"
     ]
    },
    "id": "TXpm1p81Fg9D",
    "outputId": "e2aaa209-f8ee-4360-b036-760a1e9257c8"
   },
   "outputs": [],
   "source": [
    "# Train\n",
    "model_60 = get_model(HYPERPARAMS)\n",
    "hist_60  = train_model(model_60, train_loader_60, val_loader_20, HYPERPARAMS)\n",
    "plot_loss(hist_60, title=\"60/20 training\")\n",
    "\n",
    "# Load BEST checkpoint saved during training\n",
    "model_60 = get_model(HYPERPARAMS)\n",
    "model_60.load_state_dict(torch.load(\"best_deeplabv3plus_model.pth\", map_location=device))\n",
    "model_60.eval()\n",
    "\n",
    "# Evaluate frozen internal 20%\n",
    "def eval_mape(model, loader):\n",
    "    model.eval()\n",
    "    losses = []\n",
    "    loss_fn = MAPELoss().to(device)\n",
    "    with torch.inference_mode(), torch.cuda.amp.autocast(enabled=torch.cuda.is_available()):\n",
    "        for xb, yb in loader:\n",
    "            xb, yb = xb.to(device), yb.to(device)\n",
    "            pred = model(xb).squeeze(1)[:, :300, :1259]\n",
    "            tgt  = yb[:, :300, :1259]\n",
    "            losses.append(loss_fn(pred, tgt).item())\n",
    "    return float(np.mean(losses))\n",
    "\n",
    "internal_test_mape = eval_mape(model_60, test_loader_int)\n",
    "print(f\"🔒 Internal Test MAPE (frozen 20%): {internal_test_mape:.5f}\")"
   ]
  },
  {
   "cell_type": "markdown",
   "metadata": {
    "id": "iu4g8b3XPnXf"
   },
   "source": [
    "**Final 80/20 Split & Official Test Loader\n",
    "Rebuilds dataset with 80% training and 20% validation on all labeled data. Prepares DataLoaders and configures the 150-sample official test set (unlabeled) for inference.**"
   ]
  },
  {
   "cell_type": "code",
   "execution_count": null,
   "metadata": {
    "colab": {
     "base_uri": "https://localhost:8080/"
    },
    "id": "ltjNsHRQGKPO",
    "outputId": "f41e1de4-6128-4029-e1e4-1e1d77376ce1"
   },
   "outputs": [],
   "source": [
    "# Rebuild an 80/20 split on all labeled data\n",
    "idx_train_80, idx_val_20b = train_test_split(idx_all, test_size=0.20, random_state=42, shuffle=True)\n",
    "print(f\"80/20 Sizes | train: {len(idx_train_80)} | val: {len(idx_val_20b)}\")\n",
    "\n",
    "train_loader_80 = DataLoader(Subset(full_dataset, idx_train_80), batch_size=BATCH_SIZE, shuffle=True, drop_last=True, **loader_args)\n",
    "val_loader_20b  = DataLoader(Subset(full_dataset, idx_val_20b),  batch_size=1, shuffle=False, **loader_args)\n",
    "\n",
    "# Official 150-sample test set (no labels)\n",
    "test_loader_official = DataLoader(SeismicDataset(test_dir, is_test=True), batch_size=4 if cuda else 1, shuffle=False, **loader_args)"
   ]
  },
  {
   "cell_type": "markdown",
   "metadata": {
    "id": "OejedlfZP3Ec"
   },
   "source": [
    "**Final Model Training (80/20 Split) & Checkpoint Recovery\n",
    "Trains DeepLabV3+ on the full 80/20 split, logs learning curves, and restores the best checkpoint for inference and submission.**"
   ]
  },
  {
   "cell_type": "code",
   "execution_count": null,
   "metadata": {
    "colab": {
     "base_uri": "https://localhost:8080/",
     "height": 1000
    },
    "id": "5uAU1bp0FDah",
    "outputId": "411f3d56-46e9-46d6-8bd6-f686aeb2d69f"
   },
   "outputs": [],
   "source": [
    "# Train final model\n",
    "model_80 = get_model(HYPERPARAMS)\n",
    "hist_80  = train_model(model_80, train_loader_80, val_loader_20b, HYPERPARAMS)\n",
    "plot_loss(hist_80, title=\"80/20 training\")\n",
    "\n",
    "# Load best checkpoint saved in this run\n",
    "model_80 = get_model(HYPERPARAMS)\n",
    "model_80.load_state_dict(torch.load(\"best_deeplabv3plus_model.pth\", map_location=device))\n",
    "model_80.eval()"
   ]
  },
  {
   "cell_type": "markdown",
   "metadata": {
    "id": "Z48G1JyYOGcR"
   },
   "source": [
    "# Test-time Inference & Submission Builder\n",
    "\n",
    "Runs batched inference on the 150 official test samples, writes a .npz with (300×1259) float64 predictions per sample ID, validates the file, and exports to Drive."
   ]
  },
  {
   "cell_type": "code",
   "execution_count": null,
   "metadata": {
    "colab": {
     "base_uri": "https://localhost:8080/"
    },
    "id": "i_R--t39Ojt0",
    "outputId": "dab88d39-cac7-4a41-d54d-3efb7f43bb0e"
   },
   "outputs": [],
   "source": [
    "# Build submission for 150 official test samples\n",
    "submission_path = \"/content/speed_structure_submission.npz\"\n",
    "if os.path.exists(submission_path):\n",
    "    os.remove(submission_path)\n",
    "\n",
    "with torch.inference_mode(), torch.cuda.amp.autocast(enabled=torch.cuda.is_available()):\n",
    "    for xb, sids in tqdm(test_loader_official, desc=\"Inference (official test)\"):\n",
    "        xb = xb.to(device, non_blocking=True)\n",
    "        pred = model_80(xb).squeeze(1)[:, :300, :1259]                    # (B, 300, 1259)\n",
    "        arr  = pred.detach().cpu().numpy().astype(np.float64)\n",
    "        for i, sid in enumerate(sids):\n",
    "            create_submission(sid, arr[i], submission_path)\n",
    "\n",
    "print(\"✅ Submission written to:\", submission_path)\n",
    "\n",
    "# Sanity check\n",
    "def validate_submission_file(sub_path, expected=150):\n",
    "    if not os.path.exists(sub_path): return print(\"❌ File missing\")\n",
    "    data = np.load(sub_path); keys = list(data.keys())\n",
    "    print(f\"✅ {len(keys)} predictions found.\")\n",
    "    bad = [(k, v.shape, v.dtype) for k, v in data.items() if v.shape != (300,1259) or v.dtype != np.float64]\n",
    "    if bad: print(f\"⚠️ {len(bad)} bad entries:\", bad[:3])\n",
    "    else:   print(\"🏁 Submission looks good!\")\n",
    "\n",
    "validate_submission_file(submission_path)\n",
    "\n",
    "# Persist to Drive\n",
    "!cp -f /content/speed_structure_submission.npz /content/drive/MyDrive/Speed_and_Structure/\n",
    "print(\"📁 Copied to Drive: /content/drive/MyDrive/Speed_and_Structure/speed_structure_submission.npz\")"
   ]
  }
 ],
 "metadata": {
  "accelerator": "GPU",
  "colab": {
   "authorship_tag": "ABX9TyM+FqId7KRSVanoI0RBE9q0",
   "gpuType": "A100",
   "include_colab_link": true,
   "provenance": []
  },
  "kernelspec": {
   "display_name": "Python 3",
   "name": "python3"
  },
  "language_info": {
   "name": "python"
  },
  "widgets": {
   "application/vnd.jupyter.widget-state+json": {
    "006d759ceb8d4ef9adcbfddb69d9d3b0": {
     "model_module": "@jupyter-widgets/base",
     "model_module_version": "1.2.0",
     "model_name": "LayoutModel",
     "state": {
      "_model_module": "@jupyter-widgets/base",
      "_model_module_version": "1.2.0",
      "_model_name": "LayoutModel",
      "_view_count": null,
      "_view_module": "@jupyter-widgets/base",
      "_view_module_version": "1.2.0",
      "_view_name": "LayoutView",
      "align_content": null,
      "align_items": null,
      "align_self": null,
      "border": null,
      "bottom": null,
      "display": null,
      "flex": null,
      "flex_flow": null,
      "grid_area": null,
      "grid_auto_columns": null,
      "grid_auto_flow": null,
      "grid_auto_rows": null,
      "grid_column": null,
      "grid_gap": null,
      "grid_row": null,
      "grid_template_areas": null,
      "grid_template_columns": null,
      "grid_template_rows": null,
      "height": null,
      "justify_content": null,
      "justify_items": null,
      "left": null,
      "margin": null,
      "max_height": null,
      "max_width": null,
      "min_height": null,
      "min_width": null,
      "object_fit": null,
      "object_position": null,
      "order": null,
      "overflow": null,
      "overflow_x": null,
      "overflow_y": null,
      "padding": null,
      "right": null,
      "top": null,
      "visibility": null,
      "width": null
     }
    },
    "09d670464fc7450b8966107995bef8ab": {
     "model_module": "@jupyter-widgets/controls",
     "model_module_version": "1.5.0",
     "model_name": "DescriptionStyleModel",
     "state": {
      "_model_module": "@jupyter-widgets/controls",
      "_model_module_version": "1.5.0",
      "_model_name": "DescriptionStyleModel",
      "_view_count": null,
      "_view_module": "@jupyter-widgets/base",
      "_view_module_version": "1.2.0",
      "_view_name": "StyleView",
      "description_width": ""
     }
    },
    "1a2a2500f78e4ba3a2509a0f672d41cd": {
     "model_module": "@jupyter-widgets/controls",
     "model_module_version": "1.5.0",
     "model_name": "DescriptionStyleModel",
     "state": {
      "_model_module": "@jupyter-widgets/controls",
      "_model_module_version": "1.5.0",
      "_model_name": "DescriptionStyleModel",
      "_view_count": null,
      "_view_module": "@jupyter-widgets/base",
      "_view_module_version": "1.2.0",
      "_view_name": "StyleView",
      "description_width": ""
     }
    },
    "1fe53f29c8a44e54a61f5f162dbefed8": {
     "model_module": "@jupyter-widgets/controls",
     "model_module_version": "1.5.0",
     "model_name": "DescriptionStyleModel",
     "state": {
      "_model_module": "@jupyter-widgets/controls",
      "_model_module_version": "1.5.0",
      "_model_name": "DescriptionStyleModel",
      "_view_count": null,
      "_view_module": "@jupyter-widgets/base",
      "_view_module_version": "1.2.0",
      "_view_name": "StyleView",
      "description_width": ""
     }
    },
    "2e3b640ea4d64eb8acbbb057f9a93bec": {
     "model_module": "@jupyter-widgets/controls",
     "model_module_version": "1.5.0",
     "model_name": "HTMLModel",
     "state": {
      "_dom_classes": [],
      "_model_module": "@jupyter-widgets/controls",
      "_model_module_version": "1.5.0",
      "_model_name": "HTMLModel",
      "_view_count": null,
      "_view_module": "@jupyter-widgets/controls",
      "_view_module_version": "1.5.0",
      "_view_name": "HTMLView",
      "description": "",
      "description_tooltip": null,
      "layout": "IPY_MODEL_006d759ceb8d4ef9adcbfddb69d9d3b0",
      "placeholder": "​",
      "style": "IPY_MODEL_1fe53f29c8a44e54a61f5f162dbefed8",
      "value": "model.safetensors: 100%"
     }
    },
    "3d866fbc827e40c990340bc61daa0554": {
     "model_module": "@jupyter-widgets/base",
     "model_module_version": "1.2.0",
     "model_name": "LayoutModel",
     "state": {
      "_model_module": "@jupyter-widgets/base",
      "_model_module_version": "1.2.0",
      "_model_name": "LayoutModel",
      "_view_count": null,
      "_view_module": "@jupyter-widgets/base",
      "_view_module_version": "1.2.0",
      "_view_name": "LayoutView",
      "align_content": null,
      "align_items": null,
      "align_self": null,
      "border": null,
      "bottom": null,
      "display": null,
      "flex": null,
      "flex_flow": null,
      "grid_area": null,
      "grid_auto_columns": null,
      "grid_auto_flow": null,
      "grid_auto_rows": null,
      "grid_column": null,
      "grid_gap": null,
      "grid_row": null,
      "grid_template_areas": null,
      "grid_template_columns": null,
      "grid_template_rows": null,
      "height": null,
      "justify_content": null,
      "justify_items": null,
      "left": null,
      "margin": null,
      "max_height": null,
      "max_width": null,
      "min_height": null,
      "min_width": null,
      "object_fit": null,
      "object_position": null,
      "order": null,
      "overflow": null,
      "overflow_x": null,
      "overflow_y": null,
      "padding": null,
      "right": null,
      "top": null,
      "visibility": null,
      "width": null
     }
    },
    "5b4d8e1c6b36402e9cc13b6e34fb6fe4": {
     "model_module": "@jupyter-widgets/controls",
     "model_module_version": "1.5.0",
     "model_name": "HTMLModel",
     "state": {
      "_dom_classes": [],
      "_model_module": "@jupyter-widgets/controls",
      "_model_module_version": "1.5.0",
      "_model_name": "HTMLModel",
      "_view_count": null,
      "_view_module": "@jupyter-widgets/controls",
      "_view_module_version": "1.5.0",
      "_view_name": "HTMLView",
      "description": "",
      "description_tooltip": null,
      "layout": "IPY_MODEL_6e6d49a21d014e468a994f442de39f10",
      "placeholder": "​",
      "style": "IPY_MODEL_09d670464fc7450b8966107995bef8ab",
      "value": "config.json: 100%"
     }
    },
    "6e6d49a21d014e468a994f442de39f10": {
     "model_module": "@jupyter-widgets/base",
     "model_module_version": "1.2.0",
     "model_name": "LayoutModel",
     "state": {
      "_model_module": "@jupyter-widgets/base",
      "_model_module_version": "1.2.0",
      "_model_name": "LayoutModel",
      "_view_count": null,
      "_view_module": "@jupyter-widgets/base",
      "_view_module_version": "1.2.0",
      "_view_name": "LayoutView",
      "align_content": null,
      "align_items": null,
      "align_self": null,
      "border": null,
      "bottom": null,
      "display": null,
      "flex": null,
      "flex_flow": null,
      "grid_area": null,
      "grid_auto_columns": null,
      "grid_auto_flow": null,
      "grid_auto_rows": null,
      "grid_column": null,
      "grid_gap": null,
      "grid_row": null,
      "grid_template_areas": null,
      "grid_template_columns": null,
      "grid_template_rows": null,
      "height": null,
      "justify_content": null,
      "justify_items": null,
      "left": null,
      "margin": null,
      "max_height": null,
      "max_width": null,
      "min_height": null,
      "min_width": null,
      "object_fit": null,
      "object_position": null,
      "order": null,
      "overflow": null,
      "overflow_x": null,
      "overflow_y": null,
      "padding": null,
      "right": null,
      "top": null,
      "visibility": null,
      "width": null
     }
    },
    "77b20aa44cb04947a2fd88343b752d33": {
     "model_module": "@jupyter-widgets/controls",
     "model_module_version": "1.5.0",
     "model_name": "ProgressStyleModel",
     "state": {
      "_model_module": "@jupyter-widgets/controls",
      "_model_module_version": "1.5.0",
      "_model_name": "ProgressStyleModel",
      "_view_count": null,
      "_view_module": "@jupyter-widgets/base",
      "_view_module_version": "1.2.0",
      "_view_name": "StyleView",
      "bar_color": null,
      "description_width": ""
     }
    },
    "7b05be812a5c459187c85cc5045915a2": {
     "model_module": "@jupyter-widgets/controls",
     "model_module_version": "1.5.0",
     "model_name": "FloatProgressModel",
     "state": {
      "_dom_classes": [],
      "_model_module": "@jupyter-widgets/controls",
      "_model_module_version": "1.5.0",
      "_model_name": "FloatProgressModel",
      "_view_count": null,
      "_view_module": "@jupyter-widgets/controls",
      "_view_module_version": "1.5.0",
      "_view_name": "ProgressView",
      "bar_style": "success",
      "description": "",
      "description_tooltip": null,
      "layout": "IPY_MODEL_949879166a2b45999cdbdb95e0e3c095",
      "max": 100417784,
      "min": 0,
      "orientation": "horizontal",
      "style": "IPY_MODEL_d7d8ffa57ea1464b990b6cb396252fdc",
      "value": 100417784
     }
    },
    "7d7f0ac7b0ad4f44bf7f75805398e0fb": {
     "model_module": "@jupyter-widgets/controls",
     "model_module_version": "1.5.0",
     "model_name": "HBoxModel",
     "state": {
      "_dom_classes": [],
      "_model_module": "@jupyter-widgets/controls",
      "_model_module_version": "1.5.0",
      "_model_name": "HBoxModel",
      "_view_count": null,
      "_view_module": "@jupyter-widgets/controls",
      "_view_module_version": "1.5.0",
      "_view_name": "HBoxView",
      "box_style": "",
      "children": [
       "IPY_MODEL_2e3b640ea4d64eb8acbbb057f9a93bec",
       "IPY_MODEL_7b05be812a5c459187c85cc5045915a2",
       "IPY_MODEL_e0c25521552748969288581fba36876a"
      ],
      "layout": "IPY_MODEL_d422afe8f9554d5eaf7b3dd3392cd22a"
     }
    },
    "924be5d0b7d743e7a850a8bb8e438d21": {
     "model_module": "@jupyter-widgets/controls",
     "model_module_version": "1.5.0",
     "model_name": "HTMLModel",
     "state": {
      "_dom_classes": [],
      "_model_module": "@jupyter-widgets/controls",
      "_model_module_version": "1.5.0",
      "_model_name": "HTMLModel",
      "_view_count": null,
      "_view_module": "@jupyter-widgets/controls",
      "_view_module_version": "1.5.0",
      "_view_name": "HTMLView",
      "description": "",
      "description_tooltip": null,
      "layout": "IPY_MODEL_b2083509ed6d4e48b6b23da6740a2d18",
      "placeholder": "​",
      "style": "IPY_MODEL_d7dc667b6a5a4fd7a5746f5487ce70df",
      "value": " 134/134 [00:00&lt;00:00, 15.8kB/s]"
     }
    },
    "949879166a2b45999cdbdb95e0e3c095": {
     "model_module": "@jupyter-widgets/base",
     "model_module_version": "1.2.0",
     "model_name": "LayoutModel",
     "state": {
      "_model_module": "@jupyter-widgets/base",
      "_model_module_version": "1.2.0",
      "_model_name": "LayoutModel",
      "_view_count": null,
      "_view_module": "@jupyter-widgets/base",
      "_view_module_version": "1.2.0",
      "_view_name": "LayoutView",
      "align_content": null,
      "align_items": null,
      "align_self": null,
      "border": null,
      "bottom": null,
      "display": null,
      "flex": null,
      "flex_flow": null,
      "grid_area": null,
      "grid_auto_columns": null,
      "grid_auto_flow": null,
      "grid_auto_rows": null,
      "grid_column": null,
      "grid_gap": null,
      "grid_row": null,
      "grid_template_areas": null,
      "grid_template_columns": null,
      "grid_template_rows": null,
      "height": null,
      "justify_content": null,
      "justify_items": null,
      "left": null,
      "margin": null,
      "max_height": null,
      "max_width": null,
      "min_height": null,
      "min_width": null,
      "object_fit": null,
      "object_position": null,
      "order": null,
      "overflow": null,
      "overflow_x": null,
      "overflow_y": null,
      "padding": null,
      "right": null,
      "top": null,
      "visibility": null,
      "width": null
     }
    },
    "b2083509ed6d4e48b6b23da6740a2d18": {
     "model_module": "@jupyter-widgets/base",
     "model_module_version": "1.2.0",
     "model_name": "LayoutModel",
     "state": {
      "_model_module": "@jupyter-widgets/base",
      "_model_module_version": "1.2.0",
      "_model_name": "LayoutModel",
      "_view_count": null,
      "_view_module": "@jupyter-widgets/base",
      "_view_module_version": "1.2.0",
      "_view_name": "LayoutView",
      "align_content": null,
      "align_items": null,
      "align_self": null,
      "border": null,
      "bottom": null,
      "display": null,
      "flex": null,
      "flex_flow": null,
      "grid_area": null,
      "grid_auto_columns": null,
      "grid_auto_flow": null,
      "grid_auto_rows": null,
      "grid_column": null,
      "grid_gap": null,
      "grid_row": null,
      "grid_template_areas": null,
      "grid_template_columns": null,
      "grid_template_rows": null,
      "height": null,
      "justify_content": null,
      "justify_items": null,
      "left": null,
      "margin": null,
      "max_height": null,
      "max_width": null,
      "min_height": null,
      "min_width": null,
      "object_fit": null,
      "object_position": null,
      "order": null,
      "overflow": null,
      "overflow_x": null,
      "overflow_y": null,
      "padding": null,
      "right": null,
      "top": null,
      "visibility": null,
      "width": null
     }
    },
    "c12b1bb93be248f1b8c84e6b35229717": {
     "model_module": "@jupyter-widgets/controls",
     "model_module_version": "1.5.0",
     "model_name": "FloatProgressModel",
     "state": {
      "_dom_classes": [],
      "_model_module": "@jupyter-widgets/controls",
      "_model_module_version": "1.5.0",
      "_model_name": "FloatProgressModel",
      "_view_count": null,
      "_view_module": "@jupyter-widgets/controls",
      "_view_module_version": "1.5.0",
      "_view_name": "ProgressView",
      "bar_style": "success",
      "description": "",
      "description_tooltip": null,
      "layout": "IPY_MODEL_edd41e9372f04a75b3c0c1843ffac18a",
      "max": 134,
      "min": 0,
      "orientation": "horizontal",
      "style": "IPY_MODEL_77b20aa44cb04947a2fd88343b752d33",
      "value": 134
     }
    },
    "d422afe8f9554d5eaf7b3dd3392cd22a": {
     "model_module": "@jupyter-widgets/base",
     "model_module_version": "1.2.0",
     "model_name": "LayoutModel",
     "state": {
      "_model_module": "@jupyter-widgets/base",
      "_model_module_version": "1.2.0",
      "_model_name": "LayoutModel",
      "_view_count": null,
      "_view_module": "@jupyter-widgets/base",
      "_view_module_version": "1.2.0",
      "_view_name": "LayoutView",
      "align_content": null,
      "align_items": null,
      "align_self": null,
      "border": null,
      "bottom": null,
      "display": null,
      "flex": null,
      "flex_flow": null,
      "grid_area": null,
      "grid_auto_columns": null,
      "grid_auto_flow": null,
      "grid_auto_rows": null,
      "grid_column": null,
      "grid_gap": null,
      "grid_row": null,
      "grid_template_areas": null,
      "grid_template_columns": null,
      "grid_template_rows": null,
      "height": null,
      "justify_content": null,
      "justify_items": null,
      "left": null,
      "margin": null,
      "max_height": null,
      "max_width": null,
      "min_height": null,
      "min_width": null,
      "object_fit": null,
      "object_position": null,
      "order": null,
      "overflow": null,
      "overflow_x": null,
      "overflow_y": null,
      "padding": null,
      "right": null,
      "top": null,
      "visibility": null,
      "width": null
     }
    },
    "d7d8ffa57ea1464b990b6cb396252fdc": {
     "model_module": "@jupyter-widgets/controls",
     "model_module_version": "1.5.0",
     "model_name": "ProgressStyleModel",
     "state": {
      "_model_module": "@jupyter-widgets/controls",
      "_model_module_version": "1.5.0",
      "_model_name": "ProgressStyleModel",
      "_view_count": null,
      "_view_module": "@jupyter-widgets/base",
      "_view_module_version": "1.2.0",
      "_view_name": "StyleView",
      "bar_color": null,
      "description_width": ""
     }
    },
    "d7dc667b6a5a4fd7a5746f5487ce70df": {
     "model_module": "@jupyter-widgets/controls",
     "model_module_version": "1.5.0",
     "model_name": "DescriptionStyleModel",
     "state": {
      "_model_module": "@jupyter-widgets/controls",
      "_model_module_version": "1.5.0",
      "_model_name": "DescriptionStyleModel",
      "_view_count": null,
      "_view_module": "@jupyter-widgets/base",
      "_view_module_version": "1.2.0",
      "_view_name": "StyleView",
      "description_width": ""
     }
    },
    "e0c25521552748969288581fba36876a": {
     "model_module": "@jupyter-widgets/controls",
     "model_module_version": "1.5.0",
     "model_name": "HTMLModel",
     "state": {
      "_dom_classes": [],
      "_model_module": "@jupyter-widgets/controls",
      "_model_module_version": "1.5.0",
      "_model_name": "HTMLModel",
      "_view_count": null,
      "_view_module": "@jupyter-widgets/controls",
      "_view_module_version": "1.5.0",
      "_view_name": "HTMLView",
      "description": "",
      "description_tooltip": null,
      "layout": "IPY_MODEL_fda3ff9c0545431aaac918c65dcc02a8",
      "placeholder": "​",
      "style": "IPY_MODEL_1a2a2500f78e4ba3a2509a0f672d41cd",
      "value": " 100M/100M [00:00&lt;00:00, 250MB/s]"
     }
    },
    "edd41e9372f04a75b3c0c1843ffac18a": {
     "model_module": "@jupyter-widgets/base",
     "model_module_version": "1.2.0",
     "model_name": "LayoutModel",
     "state": {
      "_model_module": "@jupyter-widgets/base",
      "_model_module_version": "1.2.0",
      "_model_name": "LayoutModel",
      "_view_count": null,
      "_view_module": "@jupyter-widgets/base",
      "_view_module_version": "1.2.0",
      "_view_name": "LayoutView",
      "align_content": null,
      "align_items": null,
      "align_self": null,
      "border": null,
      "bottom": null,
      "display": null,
      "flex": null,
      "flex_flow": null,
      "grid_area": null,
      "grid_auto_columns": null,
      "grid_auto_flow": null,
      "grid_auto_rows": null,
      "grid_column": null,
      "grid_gap": null,
      "grid_row": null,
      "grid_template_areas": null,
      "grid_template_columns": null,
      "grid_template_rows": null,
      "height": null,
      "justify_content": null,
      "justify_items": null,
      "left": null,
      "margin": null,
      "max_height": null,
      "max_width": null,
      "min_height": null,
      "min_width": null,
      "object_fit": null,
      "object_position": null,
      "order": null,
      "overflow": null,
      "overflow_x": null,
      "overflow_y": null,
      "padding": null,
      "right": null,
      "top": null,
      "visibility": null,
      "width": null
     }
    },
    "f03d85c2ca0b4e9e906825216088a2a0": {
     "model_module": "@jupyter-widgets/controls",
     "model_module_version": "1.5.0",
     "model_name": "HBoxModel",
     "state": {
      "_dom_classes": [],
      "_model_module": "@jupyter-widgets/controls",
      "_model_module_version": "1.5.0",
      "_model_name": "HBoxModel",
      "_view_count": null,
      "_view_module": "@jupyter-widgets/controls",
      "_view_module_version": "1.5.0",
      "_view_name": "HBoxView",
      "box_style": "",
      "children": [
       "IPY_MODEL_5b4d8e1c6b36402e9cc13b6e34fb6fe4",
       "IPY_MODEL_c12b1bb93be248f1b8c84e6b35229717",
       "IPY_MODEL_924be5d0b7d743e7a850a8bb8e438d21"
      ],
      "layout": "IPY_MODEL_3d866fbc827e40c990340bc61daa0554"
     }
    },
    "fda3ff9c0545431aaac918c65dcc02a8": {
     "model_module": "@jupyter-widgets/base",
     "model_module_version": "1.2.0",
     "model_name": "LayoutModel",
     "state": {
      "_model_module": "@jupyter-widgets/base",
      "_model_module_version": "1.2.0",
      "_model_name": "LayoutModel",
      "_view_count": null,
      "_view_module": "@jupyter-widgets/base",
      "_view_module_version": "1.2.0",
      "_view_name": "LayoutView",
      "align_content": null,
      "align_items": null,
      "align_self": null,
      "border": null,
      "bottom": null,
      "display": null,
      "flex": null,
      "flex_flow": null,
      "grid_area": null,
      "grid_auto_columns": null,
      "grid_auto_flow": null,
      "grid_auto_rows": null,
      "grid_column": null,
      "grid_gap": null,
      "grid_row": null,
      "grid_template_areas": null,
      "grid_template_columns": null,
      "grid_template_rows": null,
      "height": null,
      "justify_content": null,
      "justify_items": null,
      "left": null,
      "margin": null,
      "max_height": null,
      "max_width": null,
      "min_height": null,
      "min_width": null,
      "object_fit": null,
      "object_position": null,
      "order": null,
      "overflow": null,
      "overflow_x": null,
      "overflow_y": null,
      "padding": null,
      "right": null,
      "top": null,
      "visibility": null,
      "width": null
     }
    }
   }
  }
 },
 "nbformat": 4,
 "nbformat_minor": 0
}
